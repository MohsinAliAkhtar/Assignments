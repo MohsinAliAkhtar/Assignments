{
 "cells": [
  {
   "cell_type": "markdown",
   "id": "99ee3505-ee4a-4239-a389-1fdc3ce0429e",
   "metadata": {},
   "source": [
    "# Scenario 1: Grocery Shopping List\n",
    "You are creating a program to manage a grocery shopping list. Users should be able to add items\n",
    "remove items, and display the current list.\n"
   ]
  },
  {
   "cell_type": "code",
   "execution_count": 51,
   "id": "044e67f9-b5b0-4587-b499-26154f5c1c5a",
   "metadata": {},
   "outputs": [
    {
     "name": "stdout",
     "output_type": "stream",
     "text": [
      "Grocery_Shopping_list: \n",
      "\n",
      "1. Add an item\n",
      "2. Remove an item\n",
      "3. Show the list\n",
      "4. Show the list of items you removed earlier\n",
      "5. Quit \n",
      "\n"
     ]
    },
    {
     "name": "stdout",
     "output_type": "stream",
     "text": [
      "Enter your choice:  1\n",
      "Enter the item to add:  Daal\n"
     ]
    },
    {
     "name": "stdout",
     "output_type": "stream",
     "text": [
      "'Daal' added to the list! \n",
      "\n",
      "Grocery_Shopping_list: \n",
      "\n",
      "1. Add an item\n",
      "2. Remove an item\n",
      "3. Show the list\n",
      "4. Show the list of items you removed earlier\n",
      "5. Quit \n",
      "\n"
     ]
    },
    {
     "name": "stdout",
     "output_type": "stream",
     "text": [
      "Enter your choice:  1\n",
      "Enter the item to add:  Chana\n"
     ]
    },
    {
     "name": "stdout",
     "output_type": "stream",
     "text": [
      "'Chana' added to the list! \n",
      "\n",
      "Grocery_Shopping_list: \n",
      "\n",
      "1. Add an item\n",
      "2. Remove an item\n",
      "3. Show the list\n",
      "4. Show the list of items you removed earlier\n",
      "5. Quit \n",
      "\n"
     ]
    },
    {
     "name": "stdout",
     "output_type": "stream",
     "text": [
      "Enter your choice:  1\n",
      "Enter the item to add:  Rice\n"
     ]
    },
    {
     "name": "stdout",
     "output_type": "stream",
     "text": [
      "'Rice' added to the list! \n",
      "\n",
      "Grocery_Shopping_list: \n",
      "\n",
      "1. Add an item\n",
      "2. Remove an item\n",
      "3. Show the list\n",
      "4. Show the list of items you removed earlier\n",
      "5. Quit \n",
      "\n"
     ]
    },
    {
     "name": "stdout",
     "output_type": "stream",
     "text": [
      "Enter your choice:  2\n"
     ]
    },
    {
     "name": "stdout",
     "output_type": "stream",
     "text": [
      "Your shopping list:\n",
      "1 - Daal\n",
      "2 - Chana\n",
      "3 - Rice\n"
     ]
    },
    {
     "name": "stdout",
     "output_type": "stream",
     "text": [
      "Enter the number of the item to remove:  1\n"
     ]
    },
    {
     "name": "stdout",
     "output_type": "stream",
     "text": [
      "'Daal' removed from the list! \n",
      "\n",
      "Grocery_Shopping_list: \n",
      "\n",
      "1. Add an item\n",
      "2. Remove an item\n",
      "3. Show the list\n",
      "4. Show the list of items you removed earlier\n",
      "5. Quit \n",
      "\n"
     ]
    },
    {
     "name": "stdout",
     "output_type": "stream",
     "text": [
      "Enter your choice:  3\n"
     ]
    },
    {
     "name": "stdout",
     "output_type": "stream",
     "text": [
      "Your shopping list:\n",
      "1 - Chana\n",
      "2 - Rice\n",
      "Grocery_Shopping_list: \n",
      "\n",
      "1. Add an item\n",
      "2. Remove an item\n",
      "3. Show the list\n",
      "4. Show the list of items you removed earlier\n",
      "5. Quit \n",
      "\n"
     ]
    },
    {
     "name": "stdout",
     "output_type": "stream",
     "text": [
      "Enter your choice:  4\n"
     ]
    },
    {
     "name": "stdout",
     "output_type": "stream",
     "text": [
      "Items you removed earlier:\n",
      "- Daal\n",
      "Grocery_Shopping_list: \n",
      "\n",
      "1. Add an item\n",
      "2. Remove an item\n",
      "3. Show the list\n",
      "4. Show the list of items you removed earlier\n",
      "5. Quit \n",
      "\n"
     ]
    },
    {
     "name": "stdout",
     "output_type": "stream",
     "text": [
      "Enter your choice:  1\n",
      "Enter the item to add:  Daal\n"
     ]
    },
    {
     "name": "stdout",
     "output_type": "stream",
     "text": [
      "'Daal' added to the list! \n",
      "\n",
      "Grocery_Shopping_list: \n",
      "\n",
      "1. Add an item\n",
      "2. Remove an item\n",
      "3. Show the list\n",
      "4. Show the list of items you removed earlier\n",
      "5. Quit \n",
      "\n"
     ]
    },
    {
     "name": "stdout",
     "output_type": "stream",
     "text": [
      "Enter your choice:  5\n"
     ]
    },
    {
     "name": "stdout",
     "output_type": "stream",
     "text": [
      "Your final grocery list:\n",
      "1 - Chana\n",
      "2 - Rice\n",
      "3 - Daal\n",
      "Goodbye, Thanks for Using My Code!\n"
     ]
    }
   ],
   "source": [
    "shopping_list = []\n",
    "removed_items = []\n",
    "\n",
    "while True:\n",
    "    print(\"Grocery_Shopping_list: \\n\")\n",
    "    print(\"1. Add an item\")\n",
    "    print(\"2. Remove an item\")\n",
    "    print(\"3. Show the list\")\n",
    "    print(\"4. Show the list of items you removed earlier\")\n",
    "    print(\"5. Quit \\n\")\n",
    "\n",
    "    choice = int(input(\"Enter your choice: \"))\n",
    "\n",
    "    if choice == 1:\n",
    "        item = input(\"Enter the item to add: \")\n",
    "        shopping_list.append(item)\n",
    "        print(f\"'{item}' added to the list! \\n\")\n",
    "    elif choice == 2:\n",
    "        if shopping_list:\n",
    "            print(\"Your shopping list:\")\n",
    "            for i, item in enumerate(shopping_list, start=1):\n",
    "                print(f\"{i} - {item}\")\n",
    "            item_index = int(input(\"Enter the number of the item to remove: \"))\n",
    "            if 1 <= item_index <= len(shopping_list):\n",
    "                item = shopping_list.pop(item_index - 1)\n",
    "                removed_items.append(item)\n",
    "                print(f\"'{item}' removed from the list! \\n\")\n",
    "            else:\n",
    "                print(\"Invalid item number.\")\n",
    "        else:\n",
    "            print(\"Your shopping list is empty!\")\n",
    "    elif choice == 3:\n",
    "        if shopping_list:\n",
    "            print(\"Your shopping list:\")\n",
    "            for i, item in enumerate(shopping_list, start=1):\n",
    "                print(f\"{i} - {item}\")\n",
    "        else:\n",
    "            print(\"Your shopping list is empty!\")\n",
    "    elif choice == 4:\n",
    "        if removed_items:\n",
    "            print(\"Items you removed earlier:\")\n",
    "            for item in removed_items:\n",
    "                print(f\"- {item}\")\n",
    "        else:\n",
    "            print(\"You haven't removed any items yet.\")\n",
    "    elif choice == 5:\n",
    "        if shopping_list:\n",
    "            print(\"Your final grocery list:\")\n",
    "            for i, item in enumerate(shopping_list, start=1):\n",
    "                print(f\"{i} - {item}\")\n",
    "        else:\n",
    "            print(\"Your shopping list is empty!\")\n",
    "        print(\"Goodbye, Thanks for Using My Code!\")\n",
    "        break\n",
    "    else:\n",
    "        print(\"Invalid choice. Please try again.\")"
   ]
  },
  {
   "cell_type": "markdown",
   "id": "71d52bd0-c25a-4da6-a884-ef7a56857992",
   "metadata": {},
   "source": [
    "# Scenario 2: Student Grades\n",
    "You are managing student grades using a dictionary. You need to calculate the average grade.take\n",
    "atleast 5 Students grades & then calculate the average.\n"
   ]
  },
  {
   "cell_type": "code",
   "execution_count": 53,
   "id": "f013a958-83f8-44df-87b1-e4c09c62e4c0",
   "metadata": {},
   "outputs": [
    {
     "name": "stdout",
     "output_type": "stream",
     "text": [
      "Options: \n",
      "\n",
      "1. School\n",
      "2. College\n",
      "3. University\n"
     ]
    },
    {
     "name": "stdout",
     "output_type": "stream",
     "text": [
      "\n",
      " In which organisation you study? :  University\n",
      "\n",
      "Enter the number of students in which you want to calculate the average grades:  7\n",
      "Enter name of student 1:  Ashhad \n",
      "Enter CGPA of student 1:  3.89\n",
      "Enter name of student 2:  Shahriyar\n",
      "Enter CGPA of student 2:  3.84\n",
      "Enter name of student 3:  Shaheer\n",
      "Enter CGPA of student 3:  3.74\n",
      "Enter name of student 4:  Emad\n",
      "Enter CGPA of student 4:  3.35\n",
      "Enter name of student 5:  Abdul Rehman\n",
      "Enter CGPA of student 5:  3.34\n",
      "Enter name of student 6:  Abdullah\n",
      "Enter CGPA of student 6:  3.49\n",
      "Enter name of student 7:  Mohsin\n",
      "Enter CGPA of student 7:  3.58\n"
     ]
    },
    {
     "name": "stdout",
     "output_type": "stream",
     "text": [
      "\n",
      " The Average Student's CGPA is: 3.60\n"
     ]
    }
   ],
   "source": [
    "students = {}\n",
    "\n",
    "while True:\n",
    "    print(\"Options: \\n\")\n",
    "    print(\"1. School\")\n",
    "    print(\"2. College\")\n",
    "    print(\"3. University\")\n",
    "\n",
    "    organisation = input(\"\\n In which organisation you study? : \").lower()\n",
    "    std = int(input(\"\\nEnter the number of students in which you want to calculate the average grades: \"))\n",
    "\n",
    "    if organisation == \"school\" or organisation == \"college\":\n",
    "        for i in range(std):\n",
    "            name = input(f\"\\n Enter name of student {i+1}: \")\n",
    "            percentage = float(input(f\"\\n Enter percentage of student {i+1}: \"))\n",
    "            students[name] = percentage\n",
    "        break\n",
    "    elif organisation == \"university\":\n",
    "        for i in range(std):\n",
    "            name = input(f\"Enter name of student {i+1}: \")\n",
    "            cgpa = float(input(f\"Enter CGPA of student {i+1}: \"))\n",
    "            students[name] = cgpa\n",
    "        break\n",
    "    else:\n",
    "        print(\"Invalid choice! Please enter school, college, or university.\")\n",
    "\n",
    "total_grades = sum(students.values())\n",
    "average_grade = total_grades / len(students)\n",
    "\n",
    "if organisation == \"university\":\n",
    "    print(f\"\\n The Average Student's CGPA is: {average_grade:.2f}\")\n",
    "else:\n",
    "    print(f\"\\n The Average Student's Percentage is: {average_grade:.2f}\")"
   ]
  },
  {
   "cell_type": "markdown",
   "id": "13405382-3344-4932-a68b-1e13ad98282d",
   "metadata": {},
   "source": [
    "# Scenario 3: Word Frequency Counter\n",
    "You are given a list of words, and you need to count the frequency of each word.\n",
    "* word_list = [\"apple\", \"banana\", \"apple\", \"orange\", \"banana\", \"grape\", \"apple\"]"
   ]
  },
  {
   "cell_type": "code",
   "execution_count": 60,
   "id": "9e02cedf-3fb8-4680-a5da-176fb105b056",
   "metadata": {},
   "outputs": [
    {
     "name": "stdout",
     "output_type": "stream",
     "text": [
      "Word Frequency Counter \n",
      "\n",
      "apple : 3 times\n",
      "banana : 2 times\n",
      "orange : 1 times\n",
      "grape : 1 times\n"
     ]
    }
   ],
   "source": [
    "word_list = [\"apple\", \"banana\", \"apple\", \"orange\", \"banana\", \"grape\", \"apple\"]\n",
    "\n",
    "word_count = {}\n",
    "\n",
    "print(\"Word Frequency Counter \\n\")\n",
    "\n",
    "for word in word_list:\n",
    "    if word in word_count:\n",
    "        word_count[word] += 1\n",
    "    else:\n",
    "        word_count[word] = 1\n",
    "\n",
    "for word in word_count:\n",
    "    print(f\"{word} : {word_count[word]} times\")\n",
    "\n",
    "# for word, count in word_count.items():\n",
    "#     print(f\"{word} : {count} times\")\n",
    "    \n",
    "           "
   ]
  },
  {
   "cell_type": "markdown",
   "id": "166c1c8a-683f-4646-b11b-bd767039fe38",
   "metadata": {},
   "source": [
    "# Scenario 4: Password Strength Checker\n",
    "\n",
    "You are creating a program to check the strength of passwords based on certain criteria.\n",
    "\n",
    "* Password should be at least 8 characters long.\n",
    "* Password should contain at least one digit.\n",
    "* Password should contain at least one letter"
   ]
  },
  {
   "cell_type": "code",
   "execution_count": 1,
   "id": "3a4d4bb7-5a5d-4f7d-8552-d5802a3b88bc",
   "metadata": {},
   "outputs": [
    {
     "name": "stdout",
     "output_type": "stream",
     "text": [
      "Enter your Password:  1234\n"
     ]
    },
    {
     "name": "stdout",
     "output_type": "stream",
     "text": [
      "Password should be 8 characters long!\n"
     ]
    },
    {
     "name": "stdout",
     "output_type": "stream",
     "text": [
      "Enter your Password:  123456789\n"
     ]
    },
    {
     "name": "stdout",
     "output_type": "stream",
     "text": [
      "Your Password Should Contain At Least One Letter\n"
     ]
    },
    {
     "name": "stdout",
     "output_type": "stream",
     "text": [
      "Enter your Password:  1234567m\n"
     ]
    },
    {
     "name": "stdout",
     "output_type": "stream",
     "text": [
      "Your Password is Strong!\n"
     ]
    }
   ],
   "source": [
    "while True:\n",
    "    input_password = input(\"Enter your Password: \")\n",
    "        \n",
    "    if len(input_password) < 8:\n",
    "        print(\"Password should be 8 characters long!\")\n",
    "       \n",
    "    elif not any(char.isdigit() for char in input_password):\n",
    "        print(\"Your Password Should Contain At Least One Digit!\")\n",
    "       \n",
    "    elif not any(char.isalpha() for char in input_password):\n",
    "        print(\"Your Password Should Contain At Least One Letter\")\n",
    "\n",
    "    else:\n",
    "        print(\"Your Password is Strong!\")\n",
    "        break\n",
    "        "
   ]
  },
  {
   "cell_type": "markdown",
   "id": "023041a0-f831-40bf-b2d7-74c82977b7ab",
   "metadata": {},
   "source": [
    "# Scenario 05: Voting System (Annual Employee Recognition Awards)\n",
    "You are developing a simple voting system for a contest. Users can vote for their Favorite option, and\n",
    "you need to count the votes.\n",
    "In a corporate setting, the HR department is organizing the Annual Employee Recognition Awards,\n",
    "where employees get the opportunity to vote for their colleagues nominated in different categories.\n",
    "The HR team has decided to use a simple voting system to collect and tally votes for the nominees in\n",
    "various award categories. The script provided will be utilized for this purpose.\n",
    "Candidates: The nominees for different award categories, such as \"Employee of the Year,\" \"Team\n",
    "Player of the Year,\" and \"Innovation Award,\" are represented by the list of candidates: 'Candidate A,'\n",
    "'Candidate B,' and 'Candidate C.'\n",
    "Voting Process: Employees are requested to input the number of voters participating in the awards.\n",
    "Each voter is presented with a list of nominees, and they can vote for their preferred candidate by\n",
    "entering the corresponding number.\n",
    "Validation: The script ensures that the entered vote is within the valid range of candidates. If an\n",
    "employee enters an invalid vote, the system prompts them to choose a valid candidate.\n",
    "Recording Votes: The script records each vote for the selected candidate and prints a confirmation\n",
    "message indicating that the vote has been recorded.\n",
    "Results Display: Once all votes are collected, the system displays the voting results, showing the\n",
    "number of votes each candidate received in each category.\n",
    "Award Winners: Based on the voting results, the HR department can identify the winners for each\n",
    "award category and proceed with recognizing and rewarding the selected employees during the\n",
    "Annual Employee Recognition Ceremony.\n",
    "This script provides a straightforward and transparent way for employees to participate in the\n",
    "recognition process, fostering a sense of engagement and community within the organization. The\n",
    "HR team can use the collected votes to acknowledge and appreciate the efforts of outstanding\n",
    "employees in various aspects of their work."
   ]
  },
  {
   "cell_type": "code",
   "execution_count": 11,
   "id": "43493c29-15fa-4f88-885f-7346d25215ea",
   "metadata": {},
   "outputs": [
    {
     "name": "stdout",
     "output_type": "stream",
     "text": [
      "Enter the number of voters:  5\n"
     ]
    },
    {
     "name": "stdout",
     "output_type": "stream",
     "text": [
      "\n",
      "Voter 1, please cast your votes.\n",
      "\n",
      "Employee of the Year Nominees:\n",
      "1. Candidate A\n",
      "2. Candidate B\n",
      "3. Candidate C\n"
     ]
    },
    {
     "name": "stdout",
     "output_type": "stream",
     "text": [
      "Enter the number of your chosen candidate:  3\n"
     ]
    },
    {
     "name": "stdout",
     "output_type": "stream",
     "text": [
      "Your vote for Candidate C in Employee of the Year has been recorded.\n",
      "\n",
      "Team Player of the Year Nominees:\n",
      "1. Candidate A\n",
      "2. Candidate B\n",
      "3. Candidate C\n"
     ]
    },
    {
     "name": "stdout",
     "output_type": "stream",
     "text": [
      "Enter the number of your chosen candidate:  3\n"
     ]
    },
    {
     "name": "stdout",
     "output_type": "stream",
     "text": [
      "Your vote for Candidate C in Team Player of the Year has been recorded.\n",
      "\n",
      "Innovation Award Nominees:\n",
      "1. Candidate A\n",
      "2. Candidate B\n",
      "3. Candidate C\n"
     ]
    },
    {
     "name": "stdout",
     "output_type": "stream",
     "text": [
      "Enter the number of your chosen candidate:  2\n"
     ]
    },
    {
     "name": "stdout",
     "output_type": "stream",
     "text": [
      "Your vote for Candidate B in Innovation Award has been recorded.\n",
      "\n",
      "Voter 2, it's your turn now.\n",
      "\n",
      "Voter 2, please cast your votes.\n",
      "\n",
      "Employee of the Year Nominees:\n",
      "1. Candidate A\n",
      "2. Candidate B\n",
      "3. Candidate C\n"
     ]
    },
    {
     "name": "stdout",
     "output_type": "stream",
     "text": [
      "Enter the number of your chosen candidate:  1\n"
     ]
    },
    {
     "name": "stdout",
     "output_type": "stream",
     "text": [
      "Your vote for Candidate A in Employee of the Year has been recorded.\n",
      "\n",
      "Team Player of the Year Nominees:\n",
      "1. Candidate A\n",
      "2. Candidate B\n",
      "3. Candidate C\n"
     ]
    },
    {
     "name": "stdout",
     "output_type": "stream",
     "text": [
      "Enter the number of your chosen candidate:  1\n"
     ]
    },
    {
     "name": "stdout",
     "output_type": "stream",
     "text": [
      "Your vote for Candidate A in Team Player of the Year has been recorded.\n",
      "\n",
      "Innovation Award Nominees:\n",
      "1. Candidate A\n",
      "2. Candidate B\n",
      "3. Candidate C\n"
     ]
    },
    {
     "name": "stdout",
     "output_type": "stream",
     "text": [
      "Enter the number of your chosen candidate:  3\n"
     ]
    },
    {
     "name": "stdout",
     "output_type": "stream",
     "text": [
      "Your vote for Candidate C in Innovation Award has been recorded.\n",
      "\n",
      "Voter 3, it's your turn now.\n",
      "\n",
      "Voter 3, please cast your votes.\n",
      "\n",
      "Employee of the Year Nominees:\n",
      "1. Candidate A\n",
      "2. Candidate B\n",
      "3. Candidate C\n"
     ]
    },
    {
     "name": "stdout",
     "output_type": "stream",
     "text": [
      "Enter the number of your chosen candidate:  3\n"
     ]
    },
    {
     "name": "stdout",
     "output_type": "stream",
     "text": [
      "Your vote for Candidate C in Employee of the Year has been recorded.\n",
      "\n",
      "Team Player of the Year Nominees:\n",
      "1. Candidate A\n",
      "2. Candidate B\n",
      "3. Candidate C\n"
     ]
    },
    {
     "name": "stdout",
     "output_type": "stream",
     "text": [
      "Enter the number of your chosen candidate:  2\n"
     ]
    },
    {
     "name": "stdout",
     "output_type": "stream",
     "text": [
      "Your vote for Candidate B in Team Player of the Year has been recorded.\n",
      "\n",
      "Innovation Award Nominees:\n",
      "1. Candidate A\n",
      "2. Candidate B\n",
      "3. Candidate C\n"
     ]
    },
    {
     "name": "stdout",
     "output_type": "stream",
     "text": [
      "Enter the number of your chosen candidate:  1\n"
     ]
    },
    {
     "name": "stdout",
     "output_type": "stream",
     "text": [
      "Your vote for Candidate A in Innovation Award has been recorded.\n",
      "\n",
      "Voter 4, it's your turn now.\n",
      "\n",
      "Voter 4, please cast your votes.\n",
      "\n",
      "Employee of the Year Nominees:\n",
      "1. Candidate A\n",
      "2. Candidate B\n",
      "3. Candidate C\n"
     ]
    },
    {
     "name": "stdout",
     "output_type": "stream",
     "text": [
      "Enter the number of your chosen candidate:  1\n"
     ]
    },
    {
     "name": "stdout",
     "output_type": "stream",
     "text": [
      "Your vote for Candidate A in Employee of the Year has been recorded.\n",
      "\n",
      "Team Player of the Year Nominees:\n",
      "1. Candidate A\n",
      "2. Candidate B\n",
      "3. Candidate C\n"
     ]
    },
    {
     "name": "stdout",
     "output_type": "stream",
     "text": [
      "Enter the number of your chosen candidate:  2\n"
     ]
    },
    {
     "name": "stdout",
     "output_type": "stream",
     "text": [
      "Your vote for Candidate B in Team Player of the Year has been recorded.\n",
      "\n",
      "Innovation Award Nominees:\n",
      "1. Candidate A\n",
      "2. Candidate B\n",
      "3. Candidate C\n"
     ]
    },
    {
     "name": "stdout",
     "output_type": "stream",
     "text": [
      "Enter the number of your chosen candidate:  3\n"
     ]
    },
    {
     "name": "stdout",
     "output_type": "stream",
     "text": [
      "Your vote for Candidate C in Innovation Award has been recorded.\n",
      "\n",
      "Voter 5, it's your turn now.\n",
      "\n",
      "Voter 5, please cast your votes.\n",
      "\n",
      "Employee of the Year Nominees:\n",
      "1. Candidate A\n",
      "2. Candidate B\n",
      "3. Candidate C\n"
     ]
    },
    {
     "name": "stdout",
     "output_type": "stream",
     "text": [
      "Enter the number of your chosen candidate:  3\n"
     ]
    },
    {
     "name": "stdout",
     "output_type": "stream",
     "text": [
      "Your vote for Candidate C in Employee of the Year has been recorded.\n",
      "\n",
      "Team Player of the Year Nominees:\n",
      "1. Candidate A\n",
      "2. Candidate B\n",
      "3. Candidate C\n"
     ]
    },
    {
     "name": "stdout",
     "output_type": "stream",
     "text": [
      "Enter the number of your chosen candidate:  3\n"
     ]
    },
    {
     "name": "stdout",
     "output_type": "stream",
     "text": [
      "Your vote for Candidate C in Team Player of the Year has been recorded.\n",
      "\n",
      "Innovation Award Nominees:\n",
      "1. Candidate A\n",
      "2. Candidate B\n",
      "3. Candidate C\n"
     ]
    },
    {
     "name": "stdout",
     "output_type": "stream",
     "text": [
      "Enter the number of your chosen candidate:  2\n"
     ]
    },
    {
     "name": "stdout",
     "output_type": "stream",
     "text": [
      "Your vote for Candidate B in Innovation Award has been recorded.\n",
      "\n",
      "Employee of the Year Voting Results:\n",
      "Candidate A: 2 votes\n",
      "Candidate B: 0 votes\n",
      "Candidate C: 3 votes\n",
      "\n",
      "Team Player of the Year Voting Results:\n",
      "Candidate A: 1 votes\n",
      "Candidate B: 2 votes\n",
      "Candidate C: 2 votes\n",
      "\n",
      "Innovation Award Voting Results:\n",
      "Candidate A: 1 votes\n",
      "Candidate B: 2 votes\n",
      "Candidate C: 2 votes\n",
      "\n",
      "The winner for Employee of the Year is Candidate C!\n",
      "\n",
      "The votes for Team Player of the Year are tied between: Candidate B, Candidate C\n",
      "Please be patient, the HR department will announce the result soon.\n",
      "\n",
      "The votes for Innovation Award are tied between: Candidate B, Candidate C\n",
      "Please be patient, the HR department will announce the result soon.\n"
     ]
    }
   ],
   "source": [
    "award_categories = {\n",
    "    \"Employee of the Year\": {'Candidate A': 0, 'Candidate B': 0, 'Candidate C': 0},\n",
    "    \"Team Player of the Year\": {'Candidate A': 0, 'Candidate B': 0, 'Candidate C': 0},\n",
    "    \"Innovation Award\": {'Candidate A': 0, 'Candidate B': 0, 'Candidate C': 0}\n",
    "}\n",
    "\n",
    "num_voters = int(input(\"Enter the number of voters: \"))\n",
    "\n",
    "for voter in range(1, num_voters + 1):\n",
    "    print(f\"\\nVoter {voter}, please cast your votes.\")\n",
    "    for category, candidates in award_categories.items():\n",
    "        print(f\"\\n{category} Nominees:\")\n",
    "        candidate_list = list(candidates.keys())\n",
    "        for i, candidate in enumerate(candidate_list, start=1):\n",
    "            print(f\"{i}. {candidate}\")\n",
    "\n",
    "        vote = 0\n",
    "        while vote < 1 or vote > len(candidate_list):\n",
    "            vote = int(input(\"Enter the number of your chosen candidate: \"))\n",
    "            if vote < 1 or vote > len(candidate_list):\n",
    "                print(\"Invalid vote. Please choose a valid candidate.\")\n",
    "\n",
    "        \n",
    "        chosen_candidate = candidate_list[vote - 1]\n",
    "        award_categories[category][chosen_candidate] += 1\n",
    "        print(f\"Your vote for {chosen_candidate} in {category} has been recorded.\")\n",
    "    \n",
    "    if voter != num_voters:\n",
    "        print(f\"\\nVoter {voter + 1}, it's your turn now.\")\n",
    "\n",
    "for category, candidates in award_categories.items():\n",
    "    print(f\"\\n{category} Voting Results:\")\n",
    "    for candidate, vote_count in candidates.items():\n",
    "        print(f\"{candidate}: {vote_count} votes\")\n",
    "\n",
    "for category, candidates in award_categories.items():\n",
    "    max_votes = max(candidates.values())\n",
    "    winners = [candidate for candidate, votes in candidates.items() if votes == max_votes]\n",
    "    if len(winners) > 1:\n",
    "        print(f\"\\nThe votes for {category} are tied between: {', '.join(winners)}\")\n",
    "        print(\"Please be patient, the HR department will announce the result soon.\")\n",
    "    else:\n",
    "        print(f\"\\nThe winner for {category} is {winners[0]}!\")"
   ]
  }
 ],
 "metadata": {
  "kernelspec": {
   "display_name": "Python 3 (ipykernel)",
   "language": "python",
   "name": "python3"
  },
  "language_info": {
   "codemirror_mode": {
    "name": "ipython",
    "version": 3
   },
   "file_extension": ".py",
   "mimetype": "text/x-python",
   "name": "python",
   "nbconvert_exporter": "python",
   "pygments_lexer": "ipython3",
   "version": "3.12.0"
  }
 },
 "nbformat": 4,
 "nbformat_minor": 5
}
