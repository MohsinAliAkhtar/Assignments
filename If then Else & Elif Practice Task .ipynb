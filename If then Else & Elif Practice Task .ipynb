{
 "cells": [
  {
   "cell_type": "raw",
   "metadata": {},
   "source": [
    "1) A company decided to give bonus of 5% to employee if his/her year of service is more than 5 years.\n",
    "Ask user for their salary and year of service and print the net bonus amount."
   ]
  },
  {
   "cell_type": "code",
   "execution_count": 7,
   "metadata": {},
   "outputs": [
    {
     "name": "stdout",
     "output_type": "stream",
     "text": [
      "Your Bonus Salary is:  500.0\n"
     ]
    }
   ],
   "source": [
    "salary = int(input(\"Enter your Salary: \"))\n",
    "year_of_service = int(input(\"Enter Year of Service: \"))\n",
    "net_bonus_amount = salary * 5/100\n",
    "\n",
    "if year_of_service > 5:\n",
    "    print(\"Your Bonus Salary is: \", net_bonus_amount)\n",
    "else:\n",
    "    print(\"Your year of Service is Less than 5 years\")"
   ]
  },
  {
   "cell_type": "markdown",
   "metadata": {},
   "source": [
    "\n",
    "2) Write a program to check whether a person is eligible for voting or not. (accept age from user) if age is greater than 17 eligible otherwise not eligible"
   ]
  },
  {
   "cell_type": "code",
   "execution_count": 9,
   "metadata": {},
   "outputs": [
    {
     "name": "stdout",
     "output_type": "stream",
     "text": [
      "Sorry, You are not eligible for Voting!\n"
     ]
    }
   ],
   "source": [
    "user_age = int(input(\"Enter your Age: \"))\n",
    "\n",
    "if user_age > 17:\n",
    "    print(\"You are eligible for Voting!\")\n",
    "else:\n",
    "    print(\"Sorry, You are not eligible for Voting!\")\n"
   ]
  },
  {
   "cell_type": "markdown",
   "metadata": {},
   "source": [
    "\n",
    "3) Write a program to check whether a number entered by user is even or odd."
   ]
  },
  {
   "cell_type": "code",
   "execution_count": 12,
   "metadata": {},
   "outputs": [
    {
     "name": "stdout",
     "output_type": "stream",
     "text": [
      "1 is Odd\n"
     ]
    }
   ],
   "source": [
    "number = int(input(\"Enter a Number: \"))\n",
    "\n",
    "if number % 2 == 0:\n",
    "    print(f\"{number} is Even\")\n",
    "else:\n",
    "    print(f\"{number} is Odd\")"
   ]
  },
  {
   "cell_type": "markdown",
   "metadata": {},
   "source": [
    "4) Write a program to check whether a number is divisible by 7 or not.\n",
    "Show Answer"
   ]
  },
  {
   "cell_type": "code",
   "execution_count": 2,
   "metadata": {},
   "outputs": [
    {
     "name": "stdout",
     "output_type": "stream",
     "text": [
      "The given number is:  2\n",
      "The given number is not divisible by 7\n"
     ]
    }
   ],
   "source": [
    "number = int(input(\"Enter a Number: \"))\n",
    "\n",
    "if number % 7:\n",
    "    print(\"The given number is: \", number)\n",
    "    print(\"The given number is not divisible by 7\")\n",
    "else:\n",
    "    print(\"The given number is: \", number)\n",
    "    print(\"The given number is divisible by 7\")"
   ]
  },
  {
   "cell_type": "raw",
   "metadata": {},
   "source": [
    "5) Write a program to display \n",
    "\"Hello\" if a number entered by user is a multiple of five , otherwise print \"Bye\"."
   ]
  },
  {
   "cell_type": "code",
   "execution_count": 13,
   "metadata": {},
   "outputs": [
    {
     "name": "stdout",
     "output_type": "stream",
     "text": [
      "Hello\n"
     ]
    }
   ],
   "source": [
    "number1 = int(input(\"Enter a First Number: \"))\n",
    "number2 = int(input(\"Enter a Second Number: \"))\n",
    "\n",
    "if number1 * number2 % 5 == 0:\n",
    "    print(\"Hello\")\n",
    "else:\n",
    "    print(\"Bye\")"
   ]
  },
  {
   "cell_type": "raw",
   "metadata": {},
   "source": [
    "6) Write a program to calculate the electricity bill (accept number of unit from user) according to the following criteria :\n",
    "     Unit                                                     Price  \n",
    "uptp 100 units                                             no charge\n",
    "Next 200 units                                              Rs 5 per unit\n",
    "After 200 units                                             Rs 10 per unit\n",
    "(For example if input unit is 350 than total bill amount is Rs.3500\n",
    "(For example if input unit is 97 than total bill amount is Rs.0\n",
    "(For example if input unit is 150 than total bill amount is Rs.750"
   ]
  },
  {
   "cell_type": "code",
   "execution_count": 218,
   "metadata": {},
   "outputs": [
    {
     "name": "stdout",
     "output_type": "stream",
     "text": [
      "You consumed 97 units, so your total bill amount is:  0 Rs\n"
     ]
    }
   ],
   "source": [
    "number_of_unit_consume = int(input(\"Enter Number of Units you Consumed: \"))\n",
    "uptp_100_unit = 00 * number_of_unit_consume\n",
    "Next_200_unit = 5 * number_of_unit_consume\n",
    "After_200_unit = 10 * number_of_unit_consume\n",
    "\n",
    "if number_of_unit_consume <= 100:\n",
    "    print(f\"You consumed {number_of_unit_consume} units, so your total bill amount is: \", uptp_100_unit, \"Rs\")\n",
    "elif number_of_unit_consume > 100 and number_of_unit_consume  <= 200:\n",
    "    print(f\"You consumed {number_of_unit_consume} units, so your total bill amount is : \",Next_200_unit, \"Rs\")\n",
    "elif number_of_unit_consume > 200:\n",
    "    print(f\"You consumed {number_of_unit_consume} units, so Your total bill amount is : \", After_200_unit,\"Rs\")"
   ]
  },
  {
   "cell_type": "raw",
   "metadata": {},
   "source": [
    "7) Write a program to display the last digit of a number."
   ]
  },
  {
   "cell_type": "code",
   "execution_count": 205,
   "metadata": {},
   "outputs": [
    {
     "name": "stdout",
     "output_type": "stream",
     "text": [
      "The number you enter is 34 and the last digit of number is 4\n"
     ]
    }
   ],
   "source": [
    "number = int(input(\"Enter any number: \"))\n",
    "last_digit = number % 10\n",
    "\n",
    "print(f\"The number you enter is {number} and the last digit of number is {last_digit}\")\n"
   ]
  },
  {
   "cell_type": "raw",
   "metadata": {},
   "source": [
    "8) Write a program to check whether the last digit of a number( entered by user ) is \n",
    "divisible by 3 or not."
   ]
  },
  {
   "cell_type": "code",
   "execution_count": 215,
   "metadata": {},
   "outputs": [
    {
     "name": "stdout",
     "output_type": "stream",
     "text": [
      "You number you write is:  56\n",
      "The last Digit of No. is : 6  and it is Divisible by 3\n"
     ]
    }
   ],
   "source": [
    "number = int(input(\"Enter any number: \"))\n",
    "print(\"You number you write is: \", number)\n",
    "last_digit = number % 10\n",
    "\n",
    "if last_digit % 3 == 0:\n",
    "    print(f\"The last Digit of No. is : {last_digit}  and it is Divisible by 3\")   \n",
    "else:\n",
    "    print(f\"The last Digit of No. is : {last_digit}  and it is not Divisible by 3\")"
   ]
  },
  {
   "cell_type": "raw",
   "metadata": {},
   "source": [
    "9) Take values of length and breadth of a rectangle from user and print if it is square or rectangle."
   ]
  },
  {
   "cell_type": "code",
   "execution_count": 18,
   "metadata": {},
   "outputs": [
    {
     "name": "stdout",
     "output_type": "stream",
     "text": [
      "It is Rectangle.\n"
     ]
    }
   ],
   "source": [
    "length = int (input(\"Enter a Value for Length: \"))\n",
    "breath = int (input(\"Enter a Value for Breath: \"))\n",
    "\n",
    "if length == breath:\n",
    "    print(\"It is square.\")\n",
    "else:\n",
    "    print(\"It is Rectangle.\")"
   ]
  },
  {
   "cell_type": "raw",
   "metadata": {},
   "source": [
    "10) Take two int values from user and print greatest among them."
   ]
  },
  {
   "cell_type": "code",
   "execution_count": 24,
   "metadata": {},
   "outputs": [
    {
     "name": "stdout",
     "output_type": "stream",
     "text": [
      "The Greater Value is First Value:  5\n"
     ]
    }
   ],
   "source": [
    "Integer1 = int(input(\"Enter a First Number: \"))\n",
    "Integer2 = int(input(\"Enter a Second Number: \"))\n",
    "\n",
    "if Integer1 > Integer2:\n",
    "    print(\"The Greater Value is First Value: \", Integer1)\n",
    "elif Integer2 > Integer1:\n",
    "    print(\"The Greater Value is Second Value: \", Integer2)"
   ]
  },
  {
   "cell_type": "raw",
   "metadata": {},
   "source": [
    "11) A shop will give discount of 10% if the cost of purchased quantity is more than 1000.\n",
    "Ask user for quantity\n",
    "Suppose, one unit will cost 100.\n",
    "Judge and print total cost for user."
   ]
  },
  {
   "cell_type": "code",
   "execution_count": 42,
   "metadata": {},
   "outputs": [
    {
     "name": "stdout",
     "output_type": "stream",
     "text": [
      "The Total Cost After Discount is: 990.0\n"
     ]
    }
   ],
   "source": [
    "Quantity = int(input(\"Enter a Quantity: \"))\n",
    "cost = 100\n",
    "total_cost = cost * Quantity\n",
    "discount = total_cost * 10/100\n",
    "discount = total_cost - discount\n",
    "\n",
    "if total_cost > 1000:\n",
    "   print(\"The total cost after discount is:\" , discount)\n",
    "else:\n",
    "   print(\"Your total cost is not more than 1000 so your total cost is: \", total_cost)\n"
   ]
  },
  {
   "cell_type": "raw",
   "metadata": {},
   "source": [
    "12) A school has following rules for grading system:\n",
    "\n",
    "a. Below 25 - F\n",
    "\n",
    "b. 25 to 45 - E\n",
    "\n",
    "c. 45 to 50 - D\n",
    "\n",
    "d. 50 to 60 - C\n",
    "\n",
    "e. 60 to 80 - B\n",
    "\n",
    "f. Above 80 - A\n",
    "\n",
    "Ask user to enter marks and print the corresponding grade."
   ]
  },
  {
   "cell_type": "code",
   "execution_count": 82,
   "metadata": {},
   "outputs": [
    {
     "name": "stdout",
     "output_type": "stream",
     "text": [
      "Your Grade is F!\n"
     ]
    }
   ],
   "source": [
    "marks = int(input(\"Enter Your Marks: \"))\n",
    "\n",
    "if marks > 80:\n",
    "    print(\"Your Grade is A!\")\n",
    "elif marks <= 80 and marks > 60:\n",
    "    print(\"Your Grade is B!\")\n",
    "elif marks <= 60 and marks > 50:\n",
    "    print(\"Your Grade is C!\")\n",
    "elif marks <= 50 and marks > 45:\n",
    "    print(\"Your Grade is D!\")\n",
    "elif marks <= 45 and marks > 25:\n",
    "    print(\"Your Grade is E!\")\n",
    "elif marks <= 25:  \n",
    "    print(\"Your Grade is F!\")\n",
    "else:\n",
    "    print(\"Invalid Marks!\")\n"
   ]
  },
  {
   "cell_type": "raw",
   "metadata": {},
   "source": [
    "13) Take input of age of 3 people by user and determine oldest and youngest among them."
   ]
  },
  {
   "cell_type": "code",
   "execution_count": 219,
   "metadata": {},
   "outputs": [
    {
     "name": "stdout",
     "output_type": "stream",
     "text": [
      "Person 1 age is:  44\n",
      "Person 2 age is:  55\n",
      "Person 3 age is:  66\n",
      "Oldest person's age: 66\n",
      "Youngest person's age: 44\n"
     ]
    }
   ],
   "source": [
    "age1 = int(input(\"Enter age of person 1: \"))\n",
    "age2 = int(input(\"Enter age of person 2: \"))\n",
    "age3 = int(input(\"Enter age of person 3: \"))\n",
    "\n",
    "print(\"Person 1 age is: \",age1)\n",
    "print(\"Person 2 age is: \",age2)\n",
    "print(\"Person 3 age is: \",age3)\n",
    "\n",
    "oldest = max(age1, age2, age3)\n",
    "youngest = min(age1, age2, age3)\n",
    "\n",
    "print(\"Oldest person's age:\", oldest)\n",
    "print(\"Youngest person's age:\", youngest)"
   ]
  },
  {
   "cell_type": "raw",
   "metadata": {},
   "source": [
    "14)A student will not be allowed to sit in exam if his/her attendence is less than 75%.\n",
    "\n",
    "Take following input from user\n",
    "\n",
    "Number of classes held\n",
    "\n",
    "Number of classes attended.\n",
    "\n",
    "And print\n",
    "\n",
    "percentage of class attended\n",
    "\n",
    "Is student is allowed to sit in exam or not.\n"
   ]
  },
  {
   "cell_type": "code",
   "execution_count": 110,
   "metadata": {},
   "outputs": [
    {
     "name": "stdout",
     "output_type": "stream",
     "text": [
      "Number of Classes Held:  5\n",
      "Number of Classes Attended:  8\n",
      "Percentage of Class Attended:  160.0 %\n",
      "Error!, Please write the correct no of classes you attend!\n"
     ]
    }
   ],
   "source": [
    "no_of_classes_held = int(input(\"Enter No. of Classes Held: \"))\n",
    "no_of_classes_attended = int(input(\"Enter No. of Classes attended: \"))\n",
    "\n",
    "print(\"Number of Classes Held: \", no_of_classes_held)\n",
    "print(\"Number of Classes Attended: \", no_of_classes_attended)\n",
    "\n",
    "percentage_of_class_attended = no_of_classes_attended / no_of_classes_held * 100\n",
    "\n",
    "print(\"Percentage of Class Attended: \", percentage_of_class_attended,\"%\")\n",
    "\n",
    "if percentage_of_class_attended > 100:\n",
    "    print(\"Error!, Please write the correct no of classes you attend!\")\n",
    "elif percentage_of_class_attended >= 75 and percentage_of_class_attended <= 100:\n",
    "    print(\"Your attendance is more than 75% so you can sit in Exam!\")\n",
    "else:\n",
    "    print(\"Your attendance is less than 75% so you can't sit in Exam!\")"
   ]
  },
  {
   "cell_type": "raw",
   "metadata": {},
   "source": [
    "15) Modify the above question to allow student to sit if he/she has medical cause. Ask user if he/she has medical cause or not ( 'Y' or 'N' ) and print accordingly."
   ]
  },
  {
   "cell_type": "code",
   "execution_count": 124,
   "metadata": {},
   "outputs": [
    {
     "name": "stdout",
     "output_type": "stream",
     "text": [
      "Number of Classes Held:  8\n",
      "Number of Classes Attended:  7\n",
      "Percentage of Class Attended:  87.5 %\n",
      "You can't sit in Exam!\n",
      "Because you don't have any medical cause, and your attendance is less than 75% !\n"
     ]
    }
   ],
   "source": [
    "no_of_classes_held = int(input(\"Enter No. of Classes Held: \"))\n",
    "no_of_classes_attended = int(input(\"Enter No. of Classes attended: \"))\n",
    "medical_cause = (input(\"Press 'Y' if he/she has medical cause Otherwise press 'N'\"))\n",
    "\n",
    "print(\"Number of Classes Held: \", no_of_classes_held)\n",
    "print(\"Number of Classes Attended: \", no_of_classes_attended)\n",
    "\n",
    "percentage_of_class_attended = no_of_classes_attended / no_of_classes_held * 100\n",
    "\n",
    "print(\"Percentage of Class Attended: \", percentage_of_class_attended,\"%\")\n",
    "\n",
    "\n",
    "if medical_cause.lower() == 'y':\n",
    "    print(\"You can sit in Exam!\")\n",
    "    print(\"Because you have any medical cause!\")\n",
    "    if percentage_of_class_attended > 100:\n",
    "        print(\"Error!, Please write the correct no of classes you attend!\")\n",
    "        if percentage_of_class_attended >= 75 and percentage_of_class_attended <= 100:\n",
    "            print(\"Your attendance is more than 75% so you can sit in Exam!\")\n",
    "        else:\n",
    "            print(\"Your attendance is less than 75% so you can't sit in Exam!\")\n",
    "else:\n",
    "    print(\"You can't sit in Exam!\")\n",
    "    print(\"Because you don't have any medical cause, and your attendance is less than 75% !\")"
   ]
  },
  {
   "cell_type": "raw",
   "metadata": {},
   "source": [
    "16) Write a program to check if a year is leap year or not.\n",
    "\n",
    "If a year is divisible by 4 then it is leap year but if the year is century year like 2000, 1900, 2100 then it must be divisible by 400."
   ]
  },
  {
   "cell_type": "code",
   "execution_count": 156,
   "metadata": {},
   "outputs": [
    {
     "name": "stdout",
     "output_type": "stream",
     "text": [
      "2100 is not a leap year.\n"
     ]
    }
   ],
   "source": [
    "year = int(input(\"Enter a year: \"))\n",
    "\n",
    "if year % 4 == 0 and year % 100 != 0 or year % 400 == 0:\n",
    "    print(f\"{year} is a leap year.\")\n",
    "else:\n",
    "    print(f\"{year} is not a leap year.\")"
   ]
  },
  {
   "cell_type": "raw",
   "metadata": {},
   "source": [
    "17) Ask user to enter age, gender ( M or F ), marital status ( Y or N ) and then using following rules print their place of service.\n",
    "\n",
    "if employee is female, then she will work only in urban areas.\n",
    "\n",
    "if employee is a male and age is in between 20 to 40 then he may work in anywhere\n",
    "\n",
    "if employee is male and age is in between 40 t0 60 then he will work in urban areas only.\n",
    "\n",
    "And any other input of age should print \"ERROR\""
   ]
  },
  {
   "cell_type": "code",
   "execution_count": 195,
   "metadata": {},
   "outputs": [
    {
     "name": "stdout",
     "output_type": "stream",
     "text": [
      "You are Male and your Age is 39 so you can work anywhere!\n"
     ]
    }
   ],
   "source": [
    "age = int(input(\"Enter your age: \"))\n",
    "gender = (input(\"Enter your Gender (press 'M' for male or press 'F' for female): \"))\n",
    "M = \"Male\"\n",
    "F = \"Female\"\n",
    "marital_status = (input(\"Enter your Marital Status (press 'Y' for Married or press 'N' for Unmarried): \"))\n",
    "y = \"Married\"\n",
    "n = \"UnMarried\"\n",
    "\n",
    "if gender.lower() == 'm' and age >=20 and age < 40:\n",
    "    print(f\"You are {M} and your Age is {age} so you can work anywhere!\")\n",
    "elif gender.lower() == 'm' and age >=40 and age <=60:\n",
    "        print(f\"You are {M} and your Age is {age} so you can work only in urban areas!\")\n",
    "elif gender.lower() == 'f':\n",
    "    print(f\"You are {F} so you only work in urban areas!\")\n",
    "else:\n",
    "    print(\"Invalid Entry, Please Enter a valid Age.\")\n",
    "\n",
    "\n"
   ]
  }
 ],
 "metadata": {
  "kernelspec": {
   "display_name": "Python 3 (ipykernel)",
   "language": "python",
   "name": "python3"
  },
  "language_info": {
   "codemirror_mode": {
    "name": "ipython",
    "version": 3
   },
   "file_extension": ".py",
   "mimetype": "text/x-python",
   "name": "python",
   "nbconvert_exporter": "python",
   "pygments_lexer": "ipython3",
   "version": "3.12.0"
  }
 },
 "nbformat": 4,
 "nbformat_minor": 2
}
